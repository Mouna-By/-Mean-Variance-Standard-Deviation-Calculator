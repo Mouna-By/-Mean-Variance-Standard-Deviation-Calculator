{
 "cells": [
  {
   "cell_type": "markdown",
   "metadata": {},
   "source": [
    "# Mean-Variance-Standard Deviation Calculator"
   ]
  },
  {
   "cell_type": "markdown",
   "metadata": {},
   "source": [
    "Create a function named calculate() in mean_var_std.py that uses Numpy to output the mean, variance, standard deviation, max, min, and sum of the rows, columns, and elements in a 3 x 3 matrix.\n",
    "\n",
    "The input of the function should be a list containing 9 digits. The function should convert the list into a 3 x 3 Numpy array, and then return a dictionary containing the mean, variance, standard deviation, max, min, and sum along both axes and for the flattened matrix."
   ]
  },
  {
   "cell_type": "markdown",
   "metadata": {},
   "source": [
    "If a list containing less than 9 elements is passed into the function, it should raise a ValueError exception with the message: \"List must contain nine numbers.\" The values in the returned dictionary should be lists and not Numpy arrays."
   ]
  },
  {
   "cell_type": "code",
   "execution_count": 2,
   "metadata": {},
   "outputs": [],
   "source": [
    "import numpy as np"
   ]
  },
  {
   "cell_type": "code",
   "execution_count": 3,
   "metadata": {},
   "outputs": [
    {
     "name": "stdout",
     "output_type": "stream",
     "text": [
      "{'mean': [[3.0, 4.0, 5.0], [1.0, 4.0, 7.0], 4.0], 'variance': [[6.0, 6.0, 6.0], [0.6666666666666666, 0.6666666666666666, 0.6666666666666666], 6.666666666666667], 'standard deviation': [[2.449489742783178, 2.449489742783178, 2.449489742783178], [0.816496580927726, 0.816496580927726, 0.816496580927726], 2.581988897471611], 'max': [[6, 7, 8], [2, 5, 8], 8], 'min': [[0, 1, 2], [0, 3, 6], 0], 'sum': [[9, 12, 15], [3, 12, 21], 36]}\n"
     ]
    }
   ],
   "source": [
    "def calculate(input):\n",
    "    if len(input) != 9:\n",
    "        raise ValueError(\"list must contain nine numbers\")\n",
    "    a = np.array(input).reshape(3,3)\n",
    "    #print(a)\n",
    "    #print(a.mean(0), a.mean(1), a.mean())\n",
    "\n",
    "    cal = dict()\n",
    "    cal['mean'] =[a.mean(0).tolist(), a.mean(1).tolist(), a.mean().tolist()]\n",
    "    cal['variance'] =[a.var(0).tolist(), a.var(1).tolist(), a.var().tolist()]\n",
    "    cal['standard deviation'] =[a.std(0).tolist(), a.std(1).tolist(), a.std().tolist()]\n",
    "    cal['max'] =[a.max(0).tolist(), a.max(1).tolist(), a.max().tolist()]\n",
    "    cal['min'] =[a.min(0).tolist(), a.min(1).tolist(), a.min().tolist()]\n",
    "    cal['sum'] =[a.sum(0).tolist(), a.sum(1).tolist(), a.sum().tolist()]\n",
    "    return cal\n",
    "print(calculate([0,1,2,3,4,5,6,7,8]))     "
   ]
  },
  {
   "cell_type": "code",
   "execution_count": null,
   "metadata": {},
   "outputs": [],
   "source": []
  }
 ],
 "metadata": {
  "kernelspec": {
   "display_name": "Python 3",
   "language": "python",
   "name": "python3"
  },
  "language_info": {
   "codemirror_mode": {
    "name": "ipython",
    "version": 3
   },
   "file_extension": ".py",
   "mimetype": "text/x-python",
   "name": "python",
   "nbconvert_exporter": "python",
   "pygments_lexer": "ipython3",
   "version": "3.8.5"
  }
 },
 "nbformat": 4,
 "nbformat_minor": 4
}
